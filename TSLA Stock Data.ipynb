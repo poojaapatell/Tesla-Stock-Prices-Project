{
 "cells": [
  {
   "cell_type": "code",
   "execution_count": 2,
   "metadata": {},
   "outputs": [],
   "source": [
    "import pandas as pd\n",
    "import numpy as np\n",
    "import matplotlib.pyplot as plt"
   ]
  },
  {
   "cell_type": "markdown",
   "metadata": {},
   "source": [
    "### Loading the Dataset into a Pandas DataFrame"
   ]
  },
  {
   "cell_type": "code",
   "execution_count": 3,
   "metadata": {},
   "outputs": [],
   "source": [
    "tesla_df = pd.read_csv(\"/Users/Pooja/Desktop/Data Projects/TSLA/Tesla-Stock-Prices-Project/TSLA.csv\")"
   ]
  },
  {
   "cell_type": "markdown",
   "metadata": {},
   "source": [
    "### Data PreProcessing"
   ]
  },
  {
   "cell_type": "markdown",
   "metadata": {},
   "source": [
    "Previewing the first few records of the tesla_df to note the earliest stock date available."
   ]
  },
  {
   "cell_type": "code",
   "execution_count": 4,
   "metadata": {},
   "outputs": [
    {
     "data": {
      "text/html": [
       "<div>\n",
       "<style scoped>\n",
       "    .dataframe tbody tr th:only-of-type {\n",
       "        vertical-align: middle;\n",
       "    }\n",
       "\n",
       "    .dataframe tbody tr th {\n",
       "        vertical-align: top;\n",
       "    }\n",
       "\n",
       "    .dataframe thead th {\n",
       "        text-align: right;\n",
       "    }\n",
       "</style>\n",
       "<table border=\"1\" class=\"dataframe\">\n",
       "  <thead>\n",
       "    <tr style=\"text-align: right;\">\n",
       "      <th></th>\n",
       "      <th>Unnamed: 0</th>\n",
       "      <th>Date</th>\n",
       "      <th>Open</th>\n",
       "      <th>High</th>\n",
       "      <th>Low</th>\n",
       "      <th>Close</th>\n",
       "      <th>Volume</th>\n",
       "    </tr>\n",
       "  </thead>\n",
       "  <tbody>\n",
       "    <tr>\n",
       "      <th>0</th>\n",
       "      <td>0</td>\n",
       "      <td>2010-06-29</td>\n",
       "      <td>1.266667</td>\n",
       "      <td>1.666667</td>\n",
       "      <td>1.169333</td>\n",
       "      <td>1.592667</td>\n",
       "      <td>281494500</td>\n",
       "    </tr>\n",
       "    <tr>\n",
       "      <th>1</th>\n",
       "      <td>1</td>\n",
       "      <td>2010-06-30</td>\n",
       "      <td>1.719333</td>\n",
       "      <td>2.028000</td>\n",
       "      <td>1.553333</td>\n",
       "      <td>1.588667</td>\n",
       "      <td>257806500</td>\n",
       "    </tr>\n",
       "    <tr>\n",
       "      <th>2</th>\n",
       "      <td>2</td>\n",
       "      <td>2010-07-01</td>\n",
       "      <td>1.666667</td>\n",
       "      <td>1.728000</td>\n",
       "      <td>1.351333</td>\n",
       "      <td>1.464000</td>\n",
       "      <td>123282000</td>\n",
       "    </tr>\n",
       "    <tr>\n",
       "      <th>3</th>\n",
       "      <td>3</td>\n",
       "      <td>2010-07-02</td>\n",
       "      <td>1.533333</td>\n",
       "      <td>1.540000</td>\n",
       "      <td>1.247333</td>\n",
       "      <td>1.280000</td>\n",
       "      <td>77097000</td>\n",
       "    </tr>\n",
       "    <tr>\n",
       "      <th>4</th>\n",
       "      <td>4</td>\n",
       "      <td>2010-07-06</td>\n",
       "      <td>1.333333</td>\n",
       "      <td>1.333333</td>\n",
       "      <td>1.055333</td>\n",
       "      <td>1.074000</td>\n",
       "      <td>103003500</td>\n",
       "    </tr>\n",
       "  </tbody>\n",
       "</table>\n",
       "</div>"
      ],
      "text/plain": [
       "   Unnamed: 0        Date      Open      High       Low     Close     Volume\n",
       "0           0  2010-06-29  1.266667  1.666667  1.169333  1.592667  281494500\n",
       "1           1  2010-06-30  1.719333  2.028000  1.553333  1.588667  257806500\n",
       "2           2  2010-07-01  1.666667  1.728000  1.351333  1.464000  123282000\n",
       "3           3  2010-07-02  1.533333  1.540000  1.247333  1.280000   77097000\n",
       "4           4  2010-07-06  1.333333  1.333333  1.055333  1.074000  103003500"
      ]
     },
     "execution_count": 4,
     "metadata": {},
     "output_type": "execute_result"
    }
   ],
   "source": [
    "tesla_df.head()"
   ]
  },
  {
   "cell_type": "markdown",
   "metadata": {},
   "source": [
    "Previewing the last few records of the tesla_df to note the latest stock date available."
   ]
  },
  {
   "cell_type": "code",
   "execution_count": 5,
   "metadata": {},
   "outputs": [
    {
     "data": {
      "text/html": [
       "<div>\n",
       "<style scoped>\n",
       "    .dataframe tbody tr th:only-of-type {\n",
       "        vertical-align: middle;\n",
       "    }\n",
       "\n",
       "    .dataframe tbody tr th {\n",
       "        vertical-align: top;\n",
       "    }\n",
       "\n",
       "    .dataframe thead th {\n",
       "        text-align: right;\n",
       "    }\n",
       "</style>\n",
       "<table border=\"1\" class=\"dataframe\">\n",
       "  <thead>\n",
       "    <tr style=\"text-align: right;\">\n",
       "      <th></th>\n",
       "      <th>Unnamed: 0</th>\n",
       "      <th>Date</th>\n",
       "      <th>Open</th>\n",
       "      <th>High</th>\n",
       "      <th>Low</th>\n",
       "      <th>Close</th>\n",
       "      <th>Volume</th>\n",
       "    </tr>\n",
       "  </thead>\n",
       "  <tbody>\n",
       "    <tr>\n",
       "      <th>3529</th>\n",
       "      <td>3529</td>\n",
       "      <td>2024-07-09</td>\n",
       "      <td>251.000000</td>\n",
       "      <td>265.609985</td>\n",
       "      <td>250.300003</td>\n",
       "      <td>262.329987</td>\n",
       "      <td>160210900</td>\n",
       "    </tr>\n",
       "    <tr>\n",
       "      <th>3530</th>\n",
       "      <td>3530</td>\n",
       "      <td>2024-07-10</td>\n",
       "      <td>262.799988</td>\n",
       "      <td>267.589996</td>\n",
       "      <td>257.859985</td>\n",
       "      <td>263.260010</td>\n",
       "      <td>128519400</td>\n",
       "    </tr>\n",
       "    <tr>\n",
       "      <th>3531</th>\n",
       "      <td>3531</td>\n",
       "      <td>2024-07-11</td>\n",
       "      <td>263.299988</td>\n",
       "      <td>271.000000</td>\n",
       "      <td>239.649994</td>\n",
       "      <td>241.029999</td>\n",
       "      <td>221707300</td>\n",
       "    </tr>\n",
       "    <tr>\n",
       "      <th>3532</th>\n",
       "      <td>3532</td>\n",
       "      <td>2024-07-12</td>\n",
       "      <td>235.800003</td>\n",
       "      <td>251.839996</td>\n",
       "      <td>233.089996</td>\n",
       "      <td>248.229996</td>\n",
       "      <td>155694400</td>\n",
       "    </tr>\n",
       "    <tr>\n",
       "      <th>3533</th>\n",
       "      <td>3533</td>\n",
       "      <td>2024-07-15</td>\n",
       "      <td>255.964996</td>\n",
       "      <td>265.579987</td>\n",
       "      <td>251.729996</td>\n",
       "      <td>252.639999</td>\n",
       "      <td>142831728</td>\n",
       "    </tr>\n",
       "  </tbody>\n",
       "</table>\n",
       "</div>"
      ],
      "text/plain": [
       "      Unnamed: 0        Date        Open        High         Low       Close  \\\n",
       "3529        3529  2024-07-09  251.000000  265.609985  250.300003  262.329987   \n",
       "3530        3530  2024-07-10  262.799988  267.589996  257.859985  263.260010   \n",
       "3531        3531  2024-07-11  263.299988  271.000000  239.649994  241.029999   \n",
       "3532        3532  2024-07-12  235.800003  251.839996  233.089996  248.229996   \n",
       "3533        3533  2024-07-15  255.964996  265.579987  251.729996  252.639999   \n",
       "\n",
       "         Volume  \n",
       "3529  160210900  \n",
       "3530  128519400  \n",
       "3531  221707300  \n",
       "3532  155694400  \n",
       "3533  142831728  "
      ]
     },
     "execution_count": 5,
     "metadata": {},
     "output_type": "execute_result"
    }
   ],
   "source": [
    "tesla_df.tail()"
   ]
  },
  {
   "cell_type": "code",
   "execution_count": 6,
   "metadata": {},
   "outputs": [
    {
     "data": {
      "text/html": [
       "<div>\n",
       "<style scoped>\n",
       "    .dataframe tbody tr th:only-of-type {\n",
       "        vertical-align: middle;\n",
       "    }\n",
       "\n",
       "    .dataframe tbody tr th {\n",
       "        vertical-align: top;\n",
       "    }\n",
       "\n",
       "    .dataframe thead th {\n",
       "        text-align: right;\n",
       "    }\n",
       "</style>\n",
       "<table border=\"1\" class=\"dataframe\">\n",
       "  <thead>\n",
       "    <tr style=\"text-align: right;\">\n",
       "      <th></th>\n",
       "      <th>Date</th>\n",
       "      <th>Open</th>\n",
       "      <th>High</th>\n",
       "      <th>Low</th>\n",
       "      <th>Close</th>\n",
       "      <th>Volume</th>\n",
       "    </tr>\n",
       "  </thead>\n",
       "  <tbody>\n",
       "    <tr>\n",
       "      <th>0</th>\n",
       "      <td>2010-06-29</td>\n",
       "      <td>1.266667</td>\n",
       "      <td>1.666667</td>\n",
       "      <td>1.169333</td>\n",
       "      <td>1.592667</td>\n",
       "      <td>281494500</td>\n",
       "    </tr>\n",
       "    <tr>\n",
       "      <th>1</th>\n",
       "      <td>2010-06-30</td>\n",
       "      <td>1.719333</td>\n",
       "      <td>2.028000</td>\n",
       "      <td>1.553333</td>\n",
       "      <td>1.588667</td>\n",
       "      <td>257806500</td>\n",
       "    </tr>\n",
       "    <tr>\n",
       "      <th>2</th>\n",
       "      <td>2010-07-01</td>\n",
       "      <td>1.666667</td>\n",
       "      <td>1.728000</td>\n",
       "      <td>1.351333</td>\n",
       "      <td>1.464000</td>\n",
       "      <td>123282000</td>\n",
       "    </tr>\n",
       "    <tr>\n",
       "      <th>3</th>\n",
       "      <td>2010-07-02</td>\n",
       "      <td>1.533333</td>\n",
       "      <td>1.540000</td>\n",
       "      <td>1.247333</td>\n",
       "      <td>1.280000</td>\n",
       "      <td>77097000</td>\n",
       "    </tr>\n",
       "    <tr>\n",
       "      <th>4</th>\n",
       "      <td>2010-07-06</td>\n",
       "      <td>1.333333</td>\n",
       "      <td>1.333333</td>\n",
       "      <td>1.055333</td>\n",
       "      <td>1.074000</td>\n",
       "      <td>103003500</td>\n",
       "    </tr>\n",
       "    <tr>\n",
       "      <th>...</th>\n",
       "      <td>...</td>\n",
       "      <td>...</td>\n",
       "      <td>...</td>\n",
       "      <td>...</td>\n",
       "      <td>...</td>\n",
       "      <td>...</td>\n",
       "    </tr>\n",
       "    <tr>\n",
       "      <th>3529</th>\n",
       "      <td>2024-07-09</td>\n",
       "      <td>251.000000</td>\n",
       "      <td>265.609985</td>\n",
       "      <td>250.300003</td>\n",
       "      <td>262.329987</td>\n",
       "      <td>160210900</td>\n",
       "    </tr>\n",
       "    <tr>\n",
       "      <th>3530</th>\n",
       "      <td>2024-07-10</td>\n",
       "      <td>262.799988</td>\n",
       "      <td>267.589996</td>\n",
       "      <td>257.859985</td>\n",
       "      <td>263.260010</td>\n",
       "      <td>128519400</td>\n",
       "    </tr>\n",
       "    <tr>\n",
       "      <th>3531</th>\n",
       "      <td>2024-07-11</td>\n",
       "      <td>263.299988</td>\n",
       "      <td>271.000000</td>\n",
       "      <td>239.649994</td>\n",
       "      <td>241.029999</td>\n",
       "      <td>221707300</td>\n",
       "    </tr>\n",
       "    <tr>\n",
       "      <th>3532</th>\n",
       "      <td>2024-07-12</td>\n",
       "      <td>235.800003</td>\n",
       "      <td>251.839996</td>\n",
       "      <td>233.089996</td>\n",
       "      <td>248.229996</td>\n",
       "      <td>155694400</td>\n",
       "    </tr>\n",
       "    <tr>\n",
       "      <th>3533</th>\n",
       "      <td>2024-07-15</td>\n",
       "      <td>255.964996</td>\n",
       "      <td>265.579987</td>\n",
       "      <td>251.729996</td>\n",
       "      <td>252.639999</td>\n",
       "      <td>142831728</td>\n",
       "    </tr>\n",
       "  </tbody>\n",
       "</table>\n",
       "<p>3534 rows × 6 columns</p>\n",
       "</div>"
      ],
      "text/plain": [
       "            Date        Open        High         Low       Close     Volume\n",
       "0     2010-06-29    1.266667    1.666667    1.169333    1.592667  281494500\n",
       "1     2010-06-30    1.719333    2.028000    1.553333    1.588667  257806500\n",
       "2     2010-07-01    1.666667    1.728000    1.351333    1.464000  123282000\n",
       "3     2010-07-02    1.533333    1.540000    1.247333    1.280000   77097000\n",
       "4     2010-07-06    1.333333    1.333333    1.055333    1.074000  103003500\n",
       "...          ...         ...         ...         ...         ...        ...\n",
       "3529  2024-07-09  251.000000  265.609985  250.300003  262.329987  160210900\n",
       "3530  2024-07-10  262.799988  267.589996  257.859985  263.260010  128519400\n",
       "3531  2024-07-11  263.299988  271.000000  239.649994  241.029999  221707300\n",
       "3532  2024-07-12  235.800003  251.839996  233.089996  248.229996  155694400\n",
       "3533  2024-07-15  255.964996  265.579987  251.729996  252.639999  142831728\n",
       "\n",
       "[3534 rows x 6 columns]"
      ]
     },
     "execution_count": 6,
     "metadata": {},
     "output_type": "execute_result"
    }
   ],
   "source": [
    "# Drop the 'Unnamed: 0' column as it is not needed\n",
    "tesla_df.drop(columns=['Unnamed: 0'], inplace=True)\n",
    "\n",
    "# Drop duplicates\n",
    "tesla_df.drop_duplicates()"
   ]
  },
  {
   "cell_type": "markdown",
   "metadata": {},
   "source": [
    "Let's examine the data structure of dataset."
   ]
  },
  {
   "cell_type": "code",
   "execution_count": 7,
   "metadata": {},
   "outputs": [
    {
     "name": "stdout",
     "output_type": "stream",
     "text": [
      "<class 'pandas.core.frame.DataFrame'>\n",
      "RangeIndex: 3534 entries, 0 to 3533\n",
      "Data columns (total 6 columns):\n",
      " #   Column  Non-Null Count  Dtype  \n",
      "---  ------  --------------  -----  \n",
      " 0   Date    3534 non-null   object \n",
      " 1   Open    3534 non-null   float64\n",
      " 2   High    3534 non-null   float64\n",
      " 3   Low     3534 non-null   float64\n",
      " 4   Close   3534 non-null   float64\n",
      " 5   Volume  3534 non-null   int64  \n",
      "dtypes: float64(4), int64(1), object(1)\n",
      "memory usage: 165.8+ KB\n"
     ]
    }
   ],
   "source": [
    "# Print column data type\n",
    "tesla_df.info()"
   ]
  },
  {
   "cell_type": "markdown",
   "metadata": {},
   "source": [
    "Because 'Date' column is an object datatype, convert it into a datetime format"
   ]
  },
  {
   "cell_type": "code",
   "execution_count": 8,
   "metadata": {
    "scrolled": true
   },
   "outputs": [
    {
     "name": "stdout",
     "output_type": "stream",
     "text": [
      "<class 'pandas.core.frame.DataFrame'>\n",
      "RangeIndex: 3534 entries, 0 to 3533\n",
      "Data columns (total 6 columns):\n",
      " #   Column  Non-Null Count  Dtype         \n",
      "---  ------  --------------  -----         \n",
      " 0   Date    3534 non-null   datetime64[ns]\n",
      " 1   Open    3534 non-null   float64       \n",
      " 2   High    3534 non-null   float64       \n",
      " 3   Low     3534 non-null   float64       \n",
      " 4   Close   3534 non-null   float64       \n",
      " 5   Volume  3534 non-null   int64         \n",
      "dtypes: datetime64[ns](1), float64(4), int64(1)\n",
      "memory usage: 165.8 KB\n"
     ]
    }
   ],
   "source": [
    "tesla_df['Date'] = pd.to_datetime(tesla_df['Date'])\n",
    "\n",
    "tesla_df.info()"
   ]
  },
  {
   "cell_type": "markdown",
   "metadata": {},
   "source": [
    "Financial stock data is time series data. Each stock price is associated with a particular date. To make it easier, 'Date' should be set as an index. This will help in data manipulation, filtering, and sorting. \n",
    "\n",
    "Here, we set the 'Date' column as an index."
   ]
  },
  {
   "cell_type": "code",
   "execution_count": 9,
   "metadata": {},
   "outputs": [
    {
     "data": {
      "text/html": [
       "<div>\n",
       "<style scoped>\n",
       "    .dataframe tbody tr th:only-of-type {\n",
       "        vertical-align: middle;\n",
       "    }\n",
       "\n",
       "    .dataframe tbody tr th {\n",
       "        vertical-align: top;\n",
       "    }\n",
       "\n",
       "    .dataframe thead th {\n",
       "        text-align: right;\n",
       "    }\n",
       "</style>\n",
       "<table border=\"1\" class=\"dataframe\">\n",
       "  <thead>\n",
       "    <tr style=\"text-align: right;\">\n",
       "      <th></th>\n",
       "      <th>Open</th>\n",
       "      <th>High</th>\n",
       "      <th>Low</th>\n",
       "      <th>Close</th>\n",
       "      <th>Volume</th>\n",
       "    </tr>\n",
       "    <tr>\n",
       "      <th>Date</th>\n",
       "      <th></th>\n",
       "      <th></th>\n",
       "      <th></th>\n",
       "      <th></th>\n",
       "      <th></th>\n",
       "    </tr>\n",
       "  </thead>\n",
       "  <tbody>\n",
       "    <tr>\n",
       "      <th>2024-07-15</th>\n",
       "      <td>255.964996</td>\n",
       "      <td>265.579987</td>\n",
       "      <td>251.729996</td>\n",
       "      <td>252.639999</td>\n",
       "      <td>142831728</td>\n",
       "    </tr>\n",
       "    <tr>\n",
       "      <th>2024-07-12</th>\n",
       "      <td>235.800003</td>\n",
       "      <td>251.839996</td>\n",
       "      <td>233.089996</td>\n",
       "      <td>248.229996</td>\n",
       "      <td>155694400</td>\n",
       "    </tr>\n",
       "    <tr>\n",
       "      <th>2024-07-11</th>\n",
       "      <td>263.299988</td>\n",
       "      <td>271.000000</td>\n",
       "      <td>239.649994</td>\n",
       "      <td>241.029999</td>\n",
       "      <td>221707300</td>\n",
       "    </tr>\n",
       "    <tr>\n",
       "      <th>2024-07-10</th>\n",
       "      <td>262.799988</td>\n",
       "      <td>267.589996</td>\n",
       "      <td>257.859985</td>\n",
       "      <td>263.260010</td>\n",
       "      <td>128519400</td>\n",
       "    </tr>\n",
       "    <tr>\n",
       "      <th>2024-07-09</th>\n",
       "      <td>251.000000</td>\n",
       "      <td>265.609985</td>\n",
       "      <td>250.300003</td>\n",
       "      <td>262.329987</td>\n",
       "      <td>160210900</td>\n",
       "    </tr>\n",
       "  </tbody>\n",
       "</table>\n",
       "</div>"
      ],
      "text/plain": [
       "                  Open        High         Low       Close     Volume\n",
       "Date                                                                 \n",
       "2024-07-15  255.964996  265.579987  251.729996  252.639999  142831728\n",
       "2024-07-12  235.800003  251.839996  233.089996  248.229996  155694400\n",
       "2024-07-11  263.299988  271.000000  239.649994  241.029999  221707300\n",
       "2024-07-10  262.799988  267.589996  257.859985  263.260010  128519400\n",
       "2024-07-09  251.000000  265.609985  250.300003  262.329987  160210900"
      ]
     },
     "execution_count": 9,
     "metadata": {},
     "output_type": "execute_result"
    }
   ],
   "source": [
    "tesla_df.set_index('Date', inplace=True)\n",
    "\n",
    "# Sort the DataFrame based on the index in descending order\n",
    "tesla_df.sort_index(ascending=False, inplace=True)\n",
    "tesla_df.head()"
   ]
  },
  {
   "cell_type": "code",
   "execution_count": 10,
   "metadata": {},
   "outputs": [
    {
     "data": {
      "text/html": [
       "<div>\n",
       "<style scoped>\n",
       "    .dataframe tbody tr th:only-of-type {\n",
       "        vertical-align: middle;\n",
       "    }\n",
       "\n",
       "    .dataframe tbody tr th {\n",
       "        vertical-align: top;\n",
       "    }\n",
       "\n",
       "    .dataframe thead th {\n",
       "        text-align: right;\n",
       "    }\n",
       "</style>\n",
       "<table border=\"1\" class=\"dataframe\">\n",
       "  <thead>\n",
       "    <tr style=\"text-align: right;\">\n",
       "      <th></th>\n",
       "      <th>Open</th>\n",
       "      <th>High</th>\n",
       "      <th>Low</th>\n",
       "      <th>Close</th>\n",
       "      <th>Volume</th>\n",
       "    </tr>\n",
       "  </thead>\n",
       "  <tbody>\n",
       "    <tr>\n",
       "      <th>count</th>\n",
       "      <td>3534.000000</td>\n",
       "      <td>3534.000000</td>\n",
       "      <td>3534.000000</td>\n",
       "      <td>3534.000000</td>\n",
       "      <td>3.534000e+03</td>\n",
       "    </tr>\n",
       "    <tr>\n",
       "      <th>mean</th>\n",
       "      <td>74.997811</td>\n",
       "      <td>76.642865</td>\n",
       "      <td>73.249666</td>\n",
       "      <td>74.985912</td>\n",
       "      <td>9.694511e+07</td>\n",
       "    </tr>\n",
       "    <tr>\n",
       "      <th>std</th>\n",
       "      <td>102.281381</td>\n",
       "      <td>104.556354</td>\n",
       "      <td>99.811577</td>\n",
       "      <td>102.217353</td>\n",
       "      <td>7.877581e+07</td>\n",
       "    </tr>\n",
       "    <tr>\n",
       "      <th>min</th>\n",
       "      <td>1.076000</td>\n",
       "      <td>1.108667</td>\n",
       "      <td>0.998667</td>\n",
       "      <td>1.053333</td>\n",
       "      <td>1.777500e+06</td>\n",
       "    </tr>\n",
       "    <tr>\n",
       "      <th>25%</th>\n",
       "      <td>11.448667</td>\n",
       "      <td>11.753834</td>\n",
       "      <td>11.191166</td>\n",
       "      <td>11.532334</td>\n",
       "      <td>4.749600e+07</td>\n",
       "    </tr>\n",
       "    <tr>\n",
       "      <th>50%</th>\n",
       "      <td>17.417334</td>\n",
       "      <td>17.645333</td>\n",
       "      <td>17.064000</td>\n",
       "      <td>17.400333</td>\n",
       "      <td>8.216325e+07</td>\n",
       "    </tr>\n",
       "    <tr>\n",
       "      <th>75%</th>\n",
       "      <td>159.177502</td>\n",
       "      <td>161.312500</td>\n",
       "      <td>153.632500</td>\n",
       "      <td>158.180004</td>\n",
       "      <td>1.228650e+08</td>\n",
       "    </tr>\n",
       "    <tr>\n",
       "      <th>max</th>\n",
       "      <td>411.470001</td>\n",
       "      <td>414.496674</td>\n",
       "      <td>405.666656</td>\n",
       "      <td>409.970001</td>\n",
       "      <td>9.140820e+08</td>\n",
       "    </tr>\n",
       "  </tbody>\n",
       "</table>\n",
       "</div>"
      ],
      "text/plain": [
       "              Open         High          Low        Close        Volume\n",
       "count  3534.000000  3534.000000  3534.000000  3534.000000  3.534000e+03\n",
       "mean     74.997811    76.642865    73.249666    74.985912  9.694511e+07\n",
       "std     102.281381   104.556354    99.811577   102.217353  7.877581e+07\n",
       "min       1.076000     1.108667     0.998667     1.053333  1.777500e+06\n",
       "25%      11.448667    11.753834    11.191166    11.532334  4.749600e+07\n",
       "50%      17.417334    17.645333    17.064000    17.400333  8.216325e+07\n",
       "75%     159.177502   161.312500   153.632500   158.180004  1.228650e+08\n",
       "max     411.470001   414.496674   405.666656   409.970001  9.140820e+08"
      ]
     },
     "execution_count": 10,
     "metadata": {},
     "output_type": "execute_result"
    }
   ],
   "source": [
    "# Display summary statistics\n",
    "tesla_df.describe()"
   ]
  },
  {
   "cell_type": "code",
   "execution_count": 11,
   "metadata": {},
   "outputs": [
    {
     "data": {
      "text/plain": [
       "Open      0\n",
       "High      0\n",
       "Low       0\n",
       "Close     0\n",
       "Volume    0\n",
       "dtype: int64"
      ]
     },
     "execution_count": 11,
     "metadata": {},
     "output_type": "execute_result"
    }
   ],
   "source": [
    "# Count the missing values\n",
    "tesla_df.isnull().sum()"
   ]
  },
  {
   "cell_type": "markdown",
   "metadata": {},
   "source": [
    "### Exploratory Data Analysis "
   ]
  },
  {
   "cell_type": "code",
   "execution_count": 12,
   "metadata": {},
   "outputs": [
    {
     "data": {
      "image/png": "[encoded data removed]",
      "text/plain": [
       "<Figure size 864x432 with 1 Axes>"
      ]
     },
     "metadata": {
      "needs_background": "light"
     },
     "output_type": "display_data"
    }
   ],
   "source": [
    "# Plotting the stock price over time - Comparing the Distribution of Open, Close, High, and Low Prices\n",
    "\n",
    "#plt.plot(tesla_df.index, tesla_df['Open', 'Close'], color='red', linestyle='-', linewidth=1)\n",
    "tesla_df[['Open', 'Close', 'High', 'Low']].plot(figsize=(12, 6), title=\"Tesla Stock Price over Time\")\n",
    "plt.xlabel(\"Year\")\n",
    "plt.ylabel(\"Price (in USD)\")\n",
    "\n",
    "plt.grid(True)\n",
    "\n",
    "plt.show()"
   ]
  },
  {
   "cell_type": "markdown",
   "metadata": {},
   "source": [
    "The plot shows Tesla's stock prices over time, including opening, closing, high, and low values, providing a comprehensive view of its market fluctuations. The stock exhibits a general upward trend, reflecting significant appreciation over the years.\n",
    "\n",
    "From 2010 to 2019, the stock prices - including open, close, high, and low - indicate a period of slow and steady growth. This period marks Tesla's process of solidifying its presence in the market. However, after 2020, there is a marked acceleration in the stock prices highlighting increased market value. This is indicative of heightened investor interest and innovative products launched increasing value to the electric vehicle sector.\n",
    "\n",
    "In 2022, the stock experiences considerable peaks and troughs exhibited by the notable volatility likely driven by strong financial results, product launches, or shifts in market dynamics. By 2023, a decline in stock prices is apparent which signify challenges or broader market conditions affecting investor sentiment.\n",
    "\n",
    "In the current year, 2024, the stock continues to demonstrate dynamic movement between the highs and lows, suggesting investor engagement remains strong amid changing market conditions."
   ]
  },
  {
   "cell_type": "code",
   "execution_count": 13,
   "metadata": {},
   "outputs": [
    {
     "data": {
      "image/png": "[encoded data removed]",
      "text/plain": [
       "<Figure size 864x432 with 1 Axes>"
      ]
     },
     "metadata": {
      "needs_background": "light"
     },
     "output_type": "display_data"
    }
   ],
   "source": [
    "# Comparison of Moving Averages - 20 days, 50 days, and 200 days for Closing Price\n",
    "\n",
    "# Simple Moving Average - 20 Days\n",
    "tesla_df['SMA_20'] = tesla_df['Close'].rolling(window=20).mean()\n",
    "\n",
    "# Exponential Moving Average - 50 days and 200 days\n",
    "tesla_df['EMA_50'] = tesla_df['Close'].ewm(span=50, adjust=False).mean()\n",
    "tesla_df['EMA_200'] = tesla_df['Close'].ewm(span=200, adjust=False).mean()\n",
    "\n",
    "tesla_df[['Close', 'SMA_20', 'EMA_50', 'EMA_200']].plot(figsize=(12,6), title = \"TSLA Close Price, SMA 20, EMA 20, EMA 200\")\n",
    "\n",
    "plt.xlabel(\"Year\")\n",
    "plt.ylabel(\"Price (Closing) in USD\")\n",
    "plt.grid(True)\n",
    "plt.show()"
   ]
  },
  {
   "cell_type": "markdown",
   "metadata": {},
   "source": [
    "The graph above illustrates the closing price of Tesla stock along with three different moving averages: 20 day Simple Moving Average (SMA_20), 50 day Exponential Moving Average (EMA_50), and 200 day Exponential Moving Average (EMA_200). The SMA_20 provides a smoother view of short-term price movements, while EMA_50 is more responsive to recent price changes thus making it useful for identifying medium-term trends. The EMA_200 captures long-term trends to highlight broader market shifts.\n",
    "\n",
    "Between 2010 and 2019, the stock prices and moving averages are relatively stable showing limited volatility. This changes significantly in 2020 where a strong upward momentum becomes evident as Tesla's stock prices surge. The EMA_200 gradually trends upwards yet lags compared to the shorter moving averages due to a longer calculation period. \n",
    "\n",
    "In the years after 2020, there is increated volatility, with shorter-term averages crossing frequently. These frequent crosses indicate significant market events known as \"Golden Cross\" and \"Death Cross\". A Golden Cross occurs when a short-term moving average crosses above a long-term moving average. If the 20-day SMA crosses above the 200-day EMA, it suggests that the stock's short-term price trends are gaining strength relative to long-term trends, often prompting traders to consider buying.\n",
    "\n",
    "A Death Cross happens when a short-term moving average crosses below a long-term moving average. If the 20-day SMA crosses below the 200-day EMA, it suggests that short-term price trends are weakening compared to long-term trends, signaling a potential downward trend and prompting traders to consider selling or adopting a more cautious stance.\n",
    "\n",
    "Overall, the chart highlights Tesla’s long-term upward trend alongside periods of substantial volatility, particularly after 2020, where the occurrence of Golden Crosses and Death Crosses can provide insights into market behavior and potential trading strategies."
   ]
  },
  {
   "cell_type": "code",
   "execution_count": 16,
   "metadata": {},
   "outputs": [
    {
     "data": {
      "image/png": "[encoded data removed]",
      "text/plain": [
       "<Figure size 864x432 with 2 Axes>"
      ]
     },
     "metadata": {},
     "output_type": "display_data"
    }
   ],
   "source": [
    "# Volume Trend with Closing Price Overlay\n",
    "\n",
    "fig, ax1 = plt.subplots(figsize=(12, 6))\n",
    "\n",
    "ax1.plot(tesla_df['Close'], color='blue', label='Close Price', alpha=0.6)\n",
    "ax1.set_xlabel('Date')\n",
    "ax1.set_ylabel('Closing Price ($)', color='blue')\n",
    "ax1.tick_params(axis='y', labelcolor='blue')\n",
    "\n",
    "ax2 = ax1.twinx()\n",
    "ax2.bar(tesla_df.index, tesla_df['Volume'], color='orange', alpha=0.3)\n",
    "ax2.set_ylabel('Volume', color='orange')\n",
    "ax2.tick_params(axis='y', labelcolor='orange')\n",
    "\n",
    "plt.title('Tesla Stock Price and Trading Volume Over Time')\n",
    "plt.grid(True)\n",
    "\n",
    "plt.show()"
   ]
  },
  {
   "cell_type": "markdown",
   "metadata": {},
   "source": [
    "The graph illustrates the performance of Tesla's stock price and trading volume over time from 2010 to 2024. The blue line represents the stock's closing price, while the orange bars indicate the trading volume.\n",
    "\n",
    "In the early years, from 2010 until around 2020, Tesla's stock price was relatively stable with only minor fluctuations. It experienced a gradual increase, but the most significant surge occurred around 2020. During this time, the price saw a dramatic rise, peaking sharply. This period of rapid growth reflects a time of increased investor interest, possibly driven by major announcements, changes in market sentiment, or broader industry trends.\n",
    "\n",
    "The stock's price peak coincides with a substantial increase in trading volume, as shown by the tall orange bars. This suggests that many investors were actively buying or selling shares during this time, likely in response to the stock's movements and market dynamics. The price then shows high volatility between 2020 and 2022, with sharp rises and declines, reflecting fluctuating investor sentiment and rapid market reactions.\n",
    "\n",
    "After this volatile period, the stock price trends downward, though it continues to fluctuate. It stabilizes at a lower level compared to its peak but still shows some significant movement. Meanwhile, trading volume also decreases after 2022, although there are occasional spikes that align with the price fluctuations. This suggests that while the overall market interest in Tesla's stock diminished from its peak, there were still moments when trading activity surged, likely due to specific events or market reactions."
   ]
  },
  {
   "cell_type": "code",
   "execution_count": null,
   "metadata": {},
   "outputs": [],
   "source": []
  }
 ],
 "metadata": {
  "kernelspec": {
   "display_name": "Python 3",
   "language": "python",
   "name": "python3"
  },
  "language_info": {
   "codemirror_mode": {
    "name": "ipython",
    "version": 3
   },
   "file_extension": ".py",
   "mimetype": "text/x-python",
   "name": "python",
   "nbconvert_exporter": "python",
   "pygments_lexer": "ipython3",
   "version": "3.8.5"
  }
 },
 "nbformat": 4,
 "nbformat_minor": 4
}
