{
 "cells": [
  {
   "cell_type": "code",
   "execution_count": 0,
   "metadata": {
    "application/vnd.databricks.v1+cell": {
     "cellMetadata": {
      "byteLimit": 2048000,
      "rowLimit": 10000
     },
     "inputWidgets": {},
     "nuid": "1caad310-b166-40e6-ab54-0ef94b8ed6b8",
     "showTitle": false,
     "tableResultSettingsMap": {},
     "title": ""
    }
   },
   "outputs": [
    {
     "output_type": "display_data",
     "data": {
      "application/vnd.databricks.v1+bamboolib_hint": "{\"pd.DataFrames\": [], \"version\": \"0.0.1\"}",
      "text/plain": []
     },
     "metadata": {},
     "output_type": "display_data"
    }
   ],
   "source": [
    "import pandas as pd"
   ]
  },
  {
   "cell_type": "code",
   "execution_count": 0,
   "metadata": {
    "application/vnd.databricks.v1+cell": {
     "cellMetadata": {
      "byteLimit": 2048000,
      "rowLimit": 10000
     },
     "inputWidgets": {},
     "nuid": "b546a436-cd04-4018-bd3b-acb29ebc377b",
     "showTitle": false,
     "tableResultSettingsMap": {},
     "title": ""
    }
   },
   "outputs": [
    {
     "output_type": "stream",
     "name": "stdout",
     "output_type": "stream",
     "text": [
      "+---+----------+------------------+------------------+------------------+------------------+---------+\n|_c0|      Date|              Open|              High|               Low|             Close|   Volume|\n+---+----------+------------------+------------------+------------------+------------------+---------+\n|  0|2010-06-29|1.2666670083999634|1.6666669845581055|1.1693329811096191|1.5926669836044312|281494500|\n|  1|2010-06-30|1.7193330526351929|2.0280001163482666| 1.553333044052124|1.5886670351028442|257806500|\n|  2|2010-07-01|1.6666669845581055|1.7280000448226929|1.3513330221176147|1.4639999866485596|123282000|\n|  3|2010-07-02|1.5333329439163208|1.5399999618530273|  1.24733304977417|1.2799999713897705| 77097000|\n|  4|2010-07-06|1.3333330154418945|1.3333330154418945|1.0553330183029175|1.0740000009536743|103003500|\n|  5|2010-07-07|1.0933330059051514| 1.108667016029358|0.9986670017242432| 1.053333044052124|103825500|\n|  6|2010-07-08|1.0759999752044678|1.1679999828338623|1.0379999876022339|1.1640000343322754|115671000|\n|  7|2010-07-09|1.1720000505447388|1.1933330297470093|1.1033329963684082| 1.159999966621399| 60759000|\n|  8|2010-07-12| 1.196666955947876|1.2046669721603394|1.1333329677581787| 1.136667013168335| 33037500|\n|  9|2010-07-13|1.1593329906463623|1.2426669597625732|1.1266670227050781|1.2093329429626465| 40201500|\n| 10|2010-07-14|1.1959999799728394|1.3433330059051514| 1.184000015258789|1.3226670026779175| 62928000|\n| 11|2010-07-15| 1.329332947731018|1.4333330392837524|1.2666670083999634|1.3259999752044678| 56097000|\n| 12|2010-07-16|1.3799999952316284|1.4199999570846558|1.3366669416427612|1.3760000467300415| 39319500|\n| 13|2010-07-19|1.4246670007705688|1.4833329916000366|1.3946670293807983|1.4606670141220093| 37297500|\n| 14|2010-07-20|1.4566669464111328|1.4566669464111328|1.3366669416427612|1.3533329963684082| 27379500|\n| 15|2010-07-21|1.3773330450057983|1.3933329582214355|1.2999999523162842|1.3480000495910645| 18787500|\n| 16|2010-07-22|1.3666670322418213|1.4166669845581055|1.3580000400543213| 1.399999976158142| 14367000|\n| 17|2010-07-23|1.4126670360565186|1.4373329877853394|1.4040000438690186|1.4193329811096191|  9804000|\n| 18|2010-07-26|1.4333330392837524|1.4333330392837524|1.3533329963684082|1.3966670036315918| 13833000|\n| 19|2010-07-27|1.3940000534057617|1.4119999408721924|1.3506669998168945|1.3700000047683716|  9295500|\n+---+----------+------------------+------------------+------------------+------------------+---------+\nonly showing top 20 rows\n\n"
     ]
    }
   ],
   "source": [
    "df = spark.table(\"tsla\")\n",
    "df.show()"
   ]
  },
  {
   "cell_type": "code",
   "execution_count": 0,
   "metadata": {
    "application/vnd.databricks.v1+cell": {
     "cellMetadata": {
      "byteLimit": 2048000,
      "rowLimit": 10000
     },
     "inputWidgets": {},
     "nuid": "6abe5bf9-6e1c-405b-bbed-9ff05d2784f8",
     "showTitle": false,
     "tableResultSettingsMap": {},
     "title": ""
    }
   },
   "outputs": [
    {
     "output_type": "display_data",
     "data": {
      "text/html": [
       "<div>\n",
       "<style scoped>\n",
       "    .dataframe tbody tr th:only-of-type {\n",
       "        vertical-align: middle;\n",
       "    }\n",
       "\n",
       "    .dataframe tbody tr th {\n",
       "        vertical-align: top;\n",
       "    }\n",
       "\n",
       "    .dataframe thead th {\n",
       "        text-align: right;\n",
       "    }\n",
       "</style>\n",
       "<table border=\"1\" class=\"dataframe\">\n",
       "  <thead>\n",
       "    <tr style=\"text-align: right;\">\n",
       "      <th></th>\n",
       "      <th>_c0</th>\n",
       "      <th>Date</th>\n",
       "      <th>Open</th>\n",
       "      <th>High</th>\n",
       "      <th>Low</th>\n",
       "      <th>Close</th>\n",
       "      <th>Volume</th>\n",
       "    </tr>\n",
       "  </thead>\n",
       "  <tbody>\n",
       "    <tr>\n",
       "      <th>0</th>\n",
       "      <td>0</td>\n",
       "      <td>2010-06-29</td>\n",
       "      <td>1.2666670083999634</td>\n",
       "      <td>1.6666669845581055</td>\n",
       "      <td>1.1693329811096191</td>\n",
       "      <td>1.5926669836044312</td>\n",
       "      <td>281494500</td>\n",
       "    </tr>\n",
       "    <tr>\n",
       "      <th>1</th>\n",
       "      <td>1</td>\n",
       "      <td>2010-06-30</td>\n",
       "      <td>1.7193330526351929</td>\n",
       "      <td>2.0280001163482666</td>\n",
       "      <td>1.553333044052124</td>\n",
       "      <td>1.5886670351028442</td>\n",
       "      <td>257806500</td>\n",
       "    </tr>\n",
       "    <tr>\n",
       "      <th>2</th>\n",
       "      <td>2</td>\n",
       "      <td>2010-07-01</td>\n",
       "      <td>1.6666669845581055</td>\n",
       "      <td>1.7280000448226929</td>\n",
       "      <td>1.3513330221176147</td>\n",
       "      <td>1.4639999866485596</td>\n",
       "      <td>123282000</td>\n",
       "    </tr>\n",
       "    <tr>\n",
       "      <th>3</th>\n",
       "      <td>3</td>\n",
       "      <td>2010-07-02</td>\n",
       "      <td>1.5333329439163208</td>\n",
       "      <td>1.5399999618530273</td>\n",
       "      <td>1.24733304977417</td>\n",
       "      <td>1.2799999713897705</td>\n",
       "      <td>77097000</td>\n",
       "    </tr>\n",
       "    <tr>\n",
       "      <th>4</th>\n",
       "      <td>4</td>\n",
       "      <td>2010-07-06</td>\n",
       "      <td>1.3333330154418945</td>\n",
       "      <td>1.3333330154418945</td>\n",
       "      <td>1.0553330183029175</td>\n",
       "      <td>1.0740000009536743</td>\n",
       "      <td>103003500</td>\n",
       "    </tr>\n",
       "  </tbody>\n",
       "</table>\n",
       "</div>"
      ]
     },
     "metadata": {
      "application/vnd.databricks.v1+output": {
       "addedWidgets": {},
       "arguments": {},
       "data": "<div>\n<style scoped>\n    .dataframe tbody tr th:only-of-type {\n        vertical-align: middle;\n    }\n\n    .dataframe tbody tr th {\n        vertical-align: top;\n    }\n\n    .dataframe thead th {\n        text-align: right;\n    }\n</style>\n<table border=\"1\" class=\"dataframe\">\n  <thead>\n    <tr style=\"text-align: right;\">\n      <th></th>\n      <th>_c0</th>\n      <th>Date</th>\n      <th>Open</th>\n      <th>High</th>\n      <th>Low</th>\n      <th>Close</th>\n      <th>Volume</th>\n    </tr>\n  </thead>\n  <tbody>\n    <tr>\n      <th>0</th>\n      <td>0</td>\n      <td>2010-06-29</td>\n      <td>1.2666670083999634</td>\n      <td>1.6666669845581055</td>\n      <td>1.1693329811096191</td>\n      <td>1.5926669836044312</td>\n      <td>281494500</td>\n    </tr>\n    <tr>\n      <th>1</th>\n      <td>1</td>\n      <td>2010-06-30</td>\n      <td>1.7193330526351929</td>\n      <td>2.0280001163482666</td>\n      <td>1.553333044052124</td>\n      <td>1.5886670351028442</td>\n      <td>257806500</td>\n    </tr>\n    <tr>\n      <th>2</th>\n      <td>2</td>\n      <td>2010-07-01</td>\n      <td>1.6666669845581055</td>\n      <td>1.7280000448226929</td>\n      <td>1.3513330221176147</td>\n      <td>1.4639999866485596</td>\n      <td>123282000</td>\n    </tr>\n    <tr>\n      <th>3</th>\n      <td>3</td>\n      <td>2010-07-02</td>\n      <td>1.5333329439163208</td>\n      <td>1.5399999618530273</td>\n      <td>1.24733304977417</td>\n      <td>1.2799999713897705</td>\n      <td>77097000</td>\n    </tr>\n    <tr>\n      <th>4</th>\n      <td>4</td>\n      <td>2010-07-06</td>\n      <td>1.3333330154418945</td>\n      <td>1.3333330154418945</td>\n      <td>1.0553330183029175</td>\n      <td>1.0740000009536743</td>\n      <td>103003500</td>\n    </tr>\n  </tbody>\n</table>\n</div>",
       "datasetInfos": [],
       "metadata": {},
       "removedWidgets": [],
       "textData": null,
       "type": "htmlSandbox"
      }
     },
     "output_type": "display_data"
    }
   ],
   "source": [
    "# Convert spark df to pandas df\n",
    "tesla_df = df.toPandas()\n",
    "\n",
    "# Previewing the first few records of the tesla_df to note the earliest stock date available.\n",
    "tesla_df.head(5)"
   ]
  },
  {
   "cell_type": "code",
   "execution_count": 0,
   "metadata": {
    "application/vnd.databricks.v1+cell": {
     "cellMetadata": {
      "byteLimit": 2048000,
      "rowLimit": 10000
     },
     "inputWidgets": {},
     "nuid": "1aa5bf0c-d7b9-4350-8e36-98cf8ccabc9b",
     "showTitle": false,
     "tableResultSettingsMap": {},
     "title": ""
    }
   },
   "outputs": [
    {
     "output_type": "display_data",
     "data": {
      "text/html": [
       "<div>\n",
       "<style scoped>\n",
       "    .dataframe tbody tr th:only-of-type {\n",
       "        vertical-align: middle;\n",
       "    }\n",
       "\n",
       "    .dataframe tbody tr th {\n",
       "        vertical-align: top;\n",
       "    }\n",
       "\n",
       "    .dataframe thead th {\n",
       "        text-align: right;\n",
       "    }\n",
       "</style>\n",
       "<table border=\"1\" class=\"dataframe\">\n",
       "  <thead>\n",
       "    <tr style=\"text-align: right;\">\n",
       "      <th></th>\n",
       "      <th>_c0</th>\n",
       "      <th>Date</th>\n",
       "      <th>Open</th>\n",
       "      <th>High</th>\n",
       "      <th>Low</th>\n",
       "      <th>Close</th>\n",
       "      <th>Volume</th>\n",
       "    </tr>\n",
       "  </thead>\n",
       "  <tbody>\n",
       "    <tr>\n",
       "      <th>3529</th>\n",
       "      <td>3529</td>\n",
       "      <td>2024-07-09</td>\n",
       "      <td>251.0</td>\n",
       "      <td>265.6099853515625</td>\n",
       "      <td>250.3000030517578</td>\n",
       "      <td>262.3299865722656</td>\n",
       "      <td>160210900</td>\n",
       "    </tr>\n",
       "    <tr>\n",
       "      <th>3530</th>\n",
       "      <td>3530</td>\n",
       "      <td>2024-07-10</td>\n",
       "      <td>262.79998779296875</td>\n",
       "      <td>267.5899963378906</td>\n",
       "      <td>257.8599853515625</td>\n",
       "      <td>263.260009765625</td>\n",
       "      <td>128519400</td>\n",
       "    </tr>\n",
       "    <tr>\n",
       "      <th>3531</th>\n",
       "      <td>3531</td>\n",
       "      <td>2024-07-11</td>\n",
       "      <td>263.29998779296875</td>\n",
       "      <td>271.0</td>\n",
       "      <td>239.64999389648438</td>\n",
       "      <td>241.02999877929688</td>\n",
       "      <td>221707300</td>\n",
       "    </tr>\n",
       "    <tr>\n",
       "      <th>3532</th>\n",
       "      <td>3532</td>\n",
       "      <td>2024-07-12</td>\n",
       "      <td>235.8000030517578</td>\n",
       "      <td>251.83999633789062</td>\n",
       "      <td>233.08999633789062</td>\n",
       "      <td>248.22999572753906</td>\n",
       "      <td>155694400</td>\n",
       "    </tr>\n",
       "    <tr>\n",
       "      <th>3533</th>\n",
       "      <td>3533</td>\n",
       "      <td>2024-07-15</td>\n",
       "      <td>255.96499633789062</td>\n",
       "      <td>265.5799865722656</td>\n",
       "      <td>251.72999572753906</td>\n",
       "      <td>252.63999938964844</td>\n",
       "      <td>142831728</td>\n",
       "    </tr>\n",
       "  </tbody>\n",
       "</table>\n",
       "</div>"
      ]
     },
     "metadata": {
      "application/vnd.databricks.v1+output": {
       "addedWidgets": {},
       "arguments": {},
       "data": "<div>\n<style scoped>\n    .dataframe tbody tr th:only-of-type {\n        vertical-align: middle;\n    }\n\n    .dataframe tbody tr th {\n        vertical-align: top;\n    }\n\n    .dataframe thead th {\n        text-align: right;\n    }\n</style>\n<table border=\"1\" class=\"dataframe\">\n  <thead>\n    <tr style=\"text-align: right;\">\n      <th></th>\n      <th>_c0</th>\n      <th>Date</th>\n      <th>Open</th>\n      <th>High</th>\n      <th>Low</th>\n      <th>Close</th>\n      <th>Volume</th>\n    </tr>\n  </thead>\n  <tbody>\n    <tr>\n      <th>3529</th>\n      <td>3529</td>\n      <td>2024-07-09</td>\n      <td>251.0</td>\n      <td>265.6099853515625</td>\n      <td>250.3000030517578</td>\n      <td>262.3299865722656</td>\n      <td>160210900</td>\n    </tr>\n    <tr>\n      <th>3530</th>\n      <td>3530</td>\n      <td>2024-07-10</td>\n      <td>262.79998779296875</td>\n      <td>267.5899963378906</td>\n      <td>257.8599853515625</td>\n      <td>263.260009765625</td>\n      <td>128519400</td>\n    </tr>\n    <tr>\n      <th>3531</th>\n      <td>3531</td>\n      <td>2024-07-11</td>\n      <td>263.29998779296875</td>\n      <td>271.0</td>\n      <td>239.64999389648438</td>\n      <td>241.02999877929688</td>\n      <td>221707300</td>\n    </tr>\n    <tr>\n      <th>3532</th>\n      <td>3532</td>\n      <td>2024-07-12</td>\n      <td>235.8000030517578</td>\n      <td>251.83999633789062</td>\n      <td>233.08999633789062</td>\n      <td>248.22999572753906</td>\n      <td>155694400</td>\n    </tr>\n    <tr>\n      <th>3533</th>\n      <td>3533</td>\n      <td>2024-07-15</td>\n      <td>255.96499633789062</td>\n      <td>265.5799865722656</td>\n      <td>251.72999572753906</td>\n      <td>252.63999938964844</td>\n      <td>142831728</td>\n    </tr>\n  </tbody>\n</table>\n</div>",
       "datasetInfos": [],
       "metadata": {},
       "removedWidgets": [],
       "textData": null,
       "type": "htmlSandbox"
      }
     },
     "output_type": "display_data"
    }
   ],
   "source": [
    "# Previewing the last few records of the tesla_df to note the latest stock date available.\n",
    "tesla_df.tail()"
   ]
  },
  {
   "cell_type": "code",
   "execution_count": 0,
   "metadata": {
    "application/vnd.databricks.v1+cell": {
     "cellMetadata": {
      "byteLimit": 2048000,
      "rowLimit": 10000
     },
     "inputWidgets": {},
     "nuid": "0d33d30e-639e-4d19-80ba-775409bbad2d",
     "showTitle": false,
     "tableResultSettingsMap": {},
     "title": ""
    }
   },
   "outputs": [
    {
     "output_type": "stream",
     "name": "stdout",
     "output_type": "stream",
     "text": [
      "Number of duplicate rows: 0\nDuplicates Drop Complete\n"
     ]
    }
   ],
   "source": [
    "# Check for Duplicates\n",
    "\n",
    "duplicates = tesla_df.duplicated()\n",
    "print(f\"Number of duplicate rows: {duplicates.sum()}\")\n",
    "\n",
    "# Drop duplicates if any\n",
    "tesla_df = tesla_df.drop_duplicates()\n",
    "print(\"Duplicates Drop Complete\")"
   ]
  },
  {
   "cell_type": "code",
   "execution_count": 0,
   "metadata": {
    "application/vnd.databricks.v1+cell": {
     "cellMetadata": {
      "byteLimit": 2048000,
      "rowLimit": 10000
     },
     "inputWidgets": {},
     "nuid": "441a9299-967e-4c66-8d0e-9198a87018d2",
     "showTitle": false,
     "tableResultSettingsMap": {},
     "title": ""
    }
   },
   "outputs": [
    {
     "output_type": "stream",
     "name": "stdout",
     "output_type": "stream",
     "text": [
      "\n--- Missing Values ---\nSeries([], dtype: int64)\n"
     ]
    }
   ],
   "source": [
    "# Check for Missing Values\n",
    "\n",
    "missing = tesla_df.isnull().sum()\n",
    "print(\"\\n--- Missing Values ---\")\n",
    "print(missing[missing > 0])\n",
    "\n",
    "# Drop rows with any missing values (or handle as needed)\n",
    "tesla_df = tesla_df.dropna()"
   ]
  },
  {
   "cell_type": "code",
   "execution_count": 0,
   "metadata": {
    "application/vnd.databricks.v1+cell": {
     "cellMetadata": {
      "byteLimit": 2048000,
      "rowLimit": 10000
     },
     "inputWidgets": {},
     "nuid": "6a261143-c5c7-4842-9ee4-96ae21b23e0d",
     "showTitle": false,
     "tableResultSettingsMap": {},
     "title": ""
    }
   },
   "outputs": [],
   "source": [
    "# COMMAND ----------\n",
    "# Convert Date column to datetime and sort\n",
    "\n",
    "tesla_df['Date'] = pd.to_datetime(tesla_df['Date'], errors='coerce')\n",
    "tesla_df = tesla_df.dropna(subset=['Date'])  # remove rows where date couldn't be parsed\n",
    "tesla_df = tesla_df.sort_values('Date')"
   ]
  },
  {
   "cell_type": "code",
   "execution_count": 0,
   "metadata": {
    "application/vnd.databricks.v1+cell": {
     "cellMetadata": {
      "byteLimit": 2048000,
      "rowLimit": 10000
     },
     "inputWidgets": {},
     "nuid": "33c20e8f-11c7-4768-81b9-afcde58a2aec",
     "showTitle": false,
     "tableResultSettingsMap": {},
     "title": ""
    }
   },
   "outputs": [],
   "source": [
    "num_cols = ['Open', 'High', 'Low', 'Close', 'Volume']\n",
    "\n",
    "# Convert columns to numeric, coercing errors to NaN (so bad strings become NaN)\n",
    "for col in num_cols:\n",
    "    tesla_df[col] = pd.to_numeric(tesla_df[col], errors='coerce')\n",
    "\n",
    "# Now you can safely check for negatives, ignoring NaNs\n",
    "for col in num_cols:\n",
    "    if (tesla_df[col] < 0).any():\n",
    "        print(f\"Warning: Negative values found in {col}\")\n",
    "\n",
    "# Drop rows with NaN in numeric columns (optional, since those came from bad data)\n",
    "tesla_df = tesla_df.dropna(subset=num_cols)\n",
    "\n",
    "# Now filter out negative values\n",
    "tesla_df = tesla_df[(tesla_df[num_cols] >= 0).all(axis=1)]"
   ]
  },
  {
   "cell_type": "code",
   "execution_count": 0,
   "metadata": {
    "application/vnd.databricks.v1+cell": {
     "cellMetadata": {
      "byteLimit": 2048000,
      "rowLimit": 10000
     },
     "collapsed": true,
     "inputWidgets": {},
     "nuid": "273c272b-f5a3-486f-af10-bce16b3792e9",
     "showTitle": false,
     "tableResultSettingsMap": {},
     "title": ""
    }
   },
   "outputs": [
    {
     "output_type": "stream",
     "name": "stdout",
     "output_type": "stream",
     "text": [
      "\nFinal cleaned shape: (3534, 7)\n              Open         High          Low        Close        Volume\ncount  3534.000000  3534.000000  3534.000000  3534.000000  3.534000e+03\nmean     74.997811    76.642865    73.249666    74.985912  9.694511e+07\nstd     102.281381   104.556354    99.811577   102.217353  7.877581e+07\nmin       1.076000     1.108667     0.998667     1.053333  1.777500e+06\n25%      11.448667    11.753834    11.191166    11.532334  4.749600e+07\n50%      17.417334    17.645333    17.064000    17.400333  8.216325e+07\n75%     159.177502   161.312500   153.632500   158.180004  1.228650e+08\nmax     411.470001   414.496674   405.666656   409.970001  9.140820e+08\n"
     ]
    }
   ],
   "source": [
    "# Print Final Stats\n",
    "\n",
    "print(f\"\\nFinal cleaned shape: {tesla_df.shape}\")\n",
    "print(tesla_df.describe())"
   ]
  },
  {
   "cell_type": "code",
   "execution_count": 0,
   "metadata": {
    "application/vnd.databricks.v1+cell": {
     "cellMetadata": {
      "byteLimit": 2048000,
      "rowLimit": 10000
     },
     "inputWidgets": {},
     "nuid": "3e98f62f-d2ea-4a81-8844-ef86b88bbfbd",
     "showTitle": false,
     "tableResultSettingsMap": {},
     "title": ""
    }
   },
   "outputs": [],
   "source": [
    "# Convert pandas DataFrame to Spark DataFrame\n",
    "tesla_sdf = spark.createDataFrame(tesla_df)\n",
    "\n",
    "# Save as Delta table (or use Parquet/CSV)\n",
    "tesla_sdf.write.mode(\"overwrite\").format(\"delta\").save(\"/mnt/data/tesla_delta\")"
   ]
  },
  {
   "cell_type": "code",
   "execution_count": 0,
   "metadata": {
    "application/vnd.databricks.v1+cell": {
     "cellMetadata": {
      "byteLimit": 2048000,
      "rowLimit": 10000
     },
     "inputWidgets": {},
     "nuid": "ea7c5d3b-b9a4-4b16-8820-7e4105fd08c7",
     "showTitle": false,
     "tableResultSettingsMap": {},
     "title": ""
    }
   },
   "outputs": [],
   "source": []
  }
 ],
 "metadata": {
  "application/vnd.databricks.v1+notebook": {
   "computePreferences": null,
   "dashboards": [],
   "environmentMetadata": {
    "base_environment": "",
    "environment_version": "1"
   },
   "inputWidgetPreferences": null,
   "language": "python",
   "notebookMetadata": {
    "pythonIndentUnit": 4
   },
   "notebookName": "Tesla Data Ingestion Cleaning",
   "widgets": {}
  }
 },
 "nbformat": 4,
 "nbformat_minor": 0
}